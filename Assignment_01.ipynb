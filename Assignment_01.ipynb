{
  "nbformat": 4,
  "nbformat_minor": 0,
  "metadata": {
    "colab": {
      "provenance": [],
      "collapsed_sections": []
    },
    "kernelspec": {
      "name": "python3",
      "display_name": "Python 3"
    },
    "language_info": {
      "name": "python"
    }
  },
  "cells": [
    {
      "cell_type": "markdown",
      "source": [
        "Reg.No : 2025\\\n",
        "Name : Kandagatla Sandeep Kumar\\\n",
        "Date : 13/10/2022"
      ],
      "metadata": {
        "id": "j25GfSwKo1Fi"
      }
    },
    {
      "cell_type": "code",
      "execution_count": 52,
      "metadata": {
        "id": "Z_iukqhcLmSU"
      },
      "outputs": [],
      "source": [
        "import pandas as pd\n",
        "import numpy as np\n",
        "import matplotlib.pyplot as plt"
      ]
    },
    {
      "cell_type": "markdown",
      "source": [
        "## 1. Identify Variables and their Types (Quantitative or Qualitative)"
      ],
      "metadata": {
        "id": "VFolpoBFkNVF"
      }
    },
    {
      "cell_type": "code",
      "source": [
        "interndata=pd.read_csv(\"/content/Enrollments_28092022.csv\")\n",
        "interndata"
      ],
      "metadata": {
        "colab": {
          "base_uri": "https://localhost:8080/",
          "height": 424
        },
        "id": "-s7XUb6RMLM7",
        "outputId": "734f5713-c593-43fb-c965-963fa3639a72"
      },
      "execution_count": 53,
      "outputs": [
        {
          "output_type": "execute_result",
          "data": {
            "text/plain": [
              "     StudentNo  DEGREE  INTERMEDIATE   SSC                      INTERNSHIP\n",
              "0         1001    8.10          76.0  92.0                    Data Science\n",
              "1         1002    8.10          76.0  92.0      MEAN Stack Web Development\n",
              "2         1003    7.80          94.6  92.0      MEAN Stack Web Development\n",
              "3         1004    9.03          89.5  89.0                    Data Science\n",
              "4         1005    8.38          87.0  90.0      MEAN Stack Web Development\n",
              "..         ...     ...           ...   ...                             ...\n",
              "292       2188    8.70          94.1  93.0                    Data Science\n",
              "293       2189    8.45          90.0  93.0                    Data Science\n",
              "294       2190    8.40          94.9  98.0                    Data Science\n",
              "295       2191    7.06          90.6  88.0  Cloud Computing Services (AWS)\n",
              "296       2192    7.50          95.5  95.0  Cloud Computing Services (AWS)\n",
              "\n",
              "[297 rows x 5 columns]"
            ],
            "text/html": [
              "\n",
              "  <div id=\"df-904054c5-bd14-4596-b4aa-5aab0ac6bbde\">\n",
              "    <div class=\"colab-df-container\">\n",
              "      <div>\n",
              "<style scoped>\n",
              "    .dataframe tbody tr th:only-of-type {\n",
              "        vertical-align: middle;\n",
              "    }\n",
              "\n",
              "    .dataframe tbody tr th {\n",
              "        vertical-align: top;\n",
              "    }\n",
              "\n",
              "    .dataframe thead th {\n",
              "        text-align: right;\n",
              "    }\n",
              "</style>\n",
              "<table border=\"1\" class=\"dataframe\">\n",
              "  <thead>\n",
              "    <tr style=\"text-align: right;\">\n",
              "      <th></th>\n",
              "      <th>StudentNo</th>\n",
              "      <th>DEGREE</th>\n",
              "      <th>INTERMEDIATE</th>\n",
              "      <th>SSC</th>\n",
              "      <th>INTERNSHIP</th>\n",
              "    </tr>\n",
              "  </thead>\n",
              "  <tbody>\n",
              "    <tr>\n",
              "      <th>0</th>\n",
              "      <td>1001</td>\n",
              "      <td>8.10</td>\n",
              "      <td>76.0</td>\n",
              "      <td>92.0</td>\n",
              "      <td>Data Science</td>\n",
              "    </tr>\n",
              "    <tr>\n",
              "      <th>1</th>\n",
              "      <td>1002</td>\n",
              "      <td>8.10</td>\n",
              "      <td>76.0</td>\n",
              "      <td>92.0</td>\n",
              "      <td>MEAN Stack Web Development</td>\n",
              "    </tr>\n",
              "    <tr>\n",
              "      <th>2</th>\n",
              "      <td>1003</td>\n",
              "      <td>7.80</td>\n",
              "      <td>94.6</td>\n",
              "      <td>92.0</td>\n",
              "      <td>MEAN Stack Web Development</td>\n",
              "    </tr>\n",
              "    <tr>\n",
              "      <th>3</th>\n",
              "      <td>1004</td>\n",
              "      <td>9.03</td>\n",
              "      <td>89.5</td>\n",
              "      <td>89.0</td>\n",
              "      <td>Data Science</td>\n",
              "    </tr>\n",
              "    <tr>\n",
              "      <th>4</th>\n",
              "      <td>1005</td>\n",
              "      <td>8.38</td>\n",
              "      <td>87.0</td>\n",
              "      <td>90.0</td>\n",
              "      <td>MEAN Stack Web Development</td>\n",
              "    </tr>\n",
              "    <tr>\n",
              "      <th>...</th>\n",
              "      <td>...</td>\n",
              "      <td>...</td>\n",
              "      <td>...</td>\n",
              "      <td>...</td>\n",
              "      <td>...</td>\n",
              "    </tr>\n",
              "    <tr>\n",
              "      <th>292</th>\n",
              "      <td>2188</td>\n",
              "      <td>8.70</td>\n",
              "      <td>94.1</td>\n",
              "      <td>93.0</td>\n",
              "      <td>Data Science</td>\n",
              "    </tr>\n",
              "    <tr>\n",
              "      <th>293</th>\n",
              "      <td>2189</td>\n",
              "      <td>8.45</td>\n",
              "      <td>90.0</td>\n",
              "      <td>93.0</td>\n",
              "      <td>Data Science</td>\n",
              "    </tr>\n",
              "    <tr>\n",
              "      <th>294</th>\n",
              "      <td>2190</td>\n",
              "      <td>8.40</td>\n",
              "      <td>94.9</td>\n",
              "      <td>98.0</td>\n",
              "      <td>Data Science</td>\n",
              "    </tr>\n",
              "    <tr>\n",
              "      <th>295</th>\n",
              "      <td>2191</td>\n",
              "      <td>7.06</td>\n",
              "      <td>90.6</td>\n",
              "      <td>88.0</td>\n",
              "      <td>Cloud Computing Services (AWS)</td>\n",
              "    </tr>\n",
              "    <tr>\n",
              "      <th>296</th>\n",
              "      <td>2192</td>\n",
              "      <td>7.50</td>\n",
              "      <td>95.5</td>\n",
              "      <td>95.0</td>\n",
              "      <td>Cloud Computing Services (AWS)</td>\n",
              "    </tr>\n",
              "  </tbody>\n",
              "</table>\n",
              "<p>297 rows × 5 columns</p>\n",
              "</div>\n",
              "      <button class=\"colab-df-convert\" onclick=\"convertToInteractive('df-904054c5-bd14-4596-b4aa-5aab0ac6bbde')\"\n",
              "              title=\"Convert this dataframe to an interactive table.\"\n",
              "              style=\"display:none;\">\n",
              "        \n",
              "  <svg xmlns=\"http://www.w3.org/2000/svg\" height=\"24px\"viewBox=\"0 0 24 24\"\n",
              "       width=\"24px\">\n",
              "    <path d=\"M0 0h24v24H0V0z\" fill=\"none\"/>\n",
              "    <path d=\"M18.56 5.44l.94 2.06.94-2.06 2.06-.94-2.06-.94-.94-2.06-.94 2.06-2.06.94zm-11 1L8.5 8.5l.94-2.06 2.06-.94-2.06-.94L8.5 2.5l-.94 2.06-2.06.94zm10 10l.94 2.06.94-2.06 2.06-.94-2.06-.94-.94-2.06-.94 2.06-2.06.94z\"/><path d=\"M17.41 7.96l-1.37-1.37c-.4-.4-.92-.59-1.43-.59-.52 0-1.04.2-1.43.59L10.3 9.45l-7.72 7.72c-.78.78-.78 2.05 0 2.83L4 21.41c.39.39.9.59 1.41.59.51 0 1.02-.2 1.41-.59l7.78-7.78 2.81-2.81c.8-.78.8-2.07 0-2.86zM5.41 20L4 18.59l7.72-7.72 1.47 1.35L5.41 20z\"/>\n",
              "  </svg>\n",
              "      </button>\n",
              "      \n",
              "  <style>\n",
              "    .colab-df-container {\n",
              "      display:flex;\n",
              "      flex-wrap:wrap;\n",
              "      gap: 12px;\n",
              "    }\n",
              "\n",
              "    .colab-df-convert {\n",
              "      background-color: #E8F0FE;\n",
              "      border: none;\n",
              "      border-radius: 50%;\n",
              "      cursor: pointer;\n",
              "      display: none;\n",
              "      fill: #1967D2;\n",
              "      height: 32px;\n",
              "      padding: 0 0 0 0;\n",
              "      width: 32px;\n",
              "    }\n",
              "\n",
              "    .colab-df-convert:hover {\n",
              "      background-color: #E2EBFA;\n",
              "      box-shadow: 0px 1px 2px rgba(60, 64, 67, 0.3), 0px 1px 3px 1px rgba(60, 64, 67, 0.15);\n",
              "      fill: #174EA6;\n",
              "    }\n",
              "\n",
              "    [theme=dark] .colab-df-convert {\n",
              "      background-color: #3B4455;\n",
              "      fill: #D2E3FC;\n",
              "    }\n",
              "\n",
              "    [theme=dark] .colab-df-convert:hover {\n",
              "      background-color: #434B5C;\n",
              "      box-shadow: 0px 1px 3px 1px rgba(0, 0, 0, 0.15);\n",
              "      filter: drop-shadow(0px 1px 2px rgba(0, 0, 0, 0.3));\n",
              "      fill: #FFFFFF;\n",
              "    }\n",
              "  </style>\n",
              "\n",
              "      <script>\n",
              "        const buttonEl =\n",
              "          document.querySelector('#df-904054c5-bd14-4596-b4aa-5aab0ac6bbde button.colab-df-convert');\n",
              "        buttonEl.style.display =\n",
              "          google.colab.kernel.accessAllowed ? 'block' : 'none';\n",
              "\n",
              "        async function convertToInteractive(key) {\n",
              "          const element = document.querySelector('#df-904054c5-bd14-4596-b4aa-5aab0ac6bbde');\n",
              "          const dataTable =\n",
              "            await google.colab.kernel.invokeFunction('convertToInteractive',\n",
              "                                                     [key], {});\n",
              "          if (!dataTable) return;\n",
              "\n",
              "          const docLinkHtml = 'Like what you see? Visit the ' +\n",
              "            '<a target=\"_blank\" href=https://colab.research.google.com/notebooks/data_table.ipynb>data table notebook</a>'\n",
              "            + ' to learn more about interactive tables.';\n",
              "          element.innerHTML = '';\n",
              "          dataTable['output_type'] = 'display_data';\n",
              "          await google.colab.output.renderOutput(dataTable, element);\n",
              "          const docLink = document.createElement('div');\n",
              "          docLink.innerHTML = docLinkHtml;\n",
              "          element.appendChild(docLink);\n",
              "        }\n",
              "      </script>\n",
              "    </div>\n",
              "  </div>\n",
              "  "
            ]
          },
          "metadata": {},
          "execution_count": 53
        }
      ]
    },
    {
      "cell_type": "code",
      "source": [
        "interndata.dtypes"
      ],
      "metadata": {
        "colab": {
          "base_uri": "https://localhost:8080/",
          "height": 0
        },
        "id": "8eLLROzaNUu4",
        "outputId": "13c5bdd7-d8a8-4c0e-bc4e-f8c38fdf7655"
      },
      "execution_count": 54,
      "outputs": [
        {
          "output_type": "execute_result",
          "data": {
            "text/plain": [
              "StudentNo         int64\n",
              "DEGREE          float64\n",
              "INTERMEDIATE    float64\n",
              "SSC             float64\n",
              "INTERNSHIP       object\n",
              "dtype: object"
            ]
          },
          "metadata": {},
          "execution_count": 54
        }
      ]
    },
    {
      "cell_type": "markdown",
      "source": [
        "# 2. Size of Data (No. of Columns and Rows)"
      ],
      "metadata": {
        "id": "7jjJqYHTlHQb"
      }
    },
    {
      "cell_type": "code",
      "source": [
        "interndata.shape"
      ],
      "metadata": {
        "colab": {
          "base_uri": "https://localhost:8080/",
          "height": 0
        },
        "id": "1eqe5wiGPODA",
        "outputId": "0f5c3a7d-d667-4ca1-a3f7-c75d473d254b"
      },
      "execution_count": 55,
      "outputs": [
        {
          "output_type": "execute_result",
          "data": {
            "text/plain": [
              "(297, 5)"
            ]
          },
          "metadata": {},
          "execution_count": 55
        }
      ]
    },
    {
      "cell_type": "markdown",
      "source": [
        "# 3. Prepare Histogram for Degree, Inter and 10th Class"
      ],
      "metadata": {
        "id": "EkJcYvIAlQGA"
      }
    },
    {
      "cell_type": "code",
      "source": [
        "interndata.hist('DEGREE')\n",
        "plt.show"
      ],
      "metadata": {
        "colab": {
          "base_uri": "https://localhost:8080/",
          "height": 298
        },
        "id": "jrHR-bM8QF6x",
        "outputId": "9385da5a-5feb-44c6-b99e-d86e0ae01dbb"
      },
      "execution_count": 56,
      "outputs": [
        {
          "output_type": "execute_result",
          "data": {
            "text/plain": [
              "<function matplotlib.pyplot.show(*args, **kw)>"
            ]
          },
          "metadata": {},
          "execution_count": 56
        },
        {
          "output_type": "display_data",
          "data": {
            "text/plain": [
              "<Figure size 432x288 with 1 Axes>"
            ],
            "image/png": "[encoded data removed]"
          },
          "metadata": {
            "needs_background": "light"
          }
        }
      ]
    },
    {
      "cell_type": "code",
      "source": [
        "interndata.hist('INTERMEDIATE')\n",
        "plt.show"
      ],
      "metadata": {
        "colab": {
          "base_uri": "https://localhost:8080/",
          "height": 298
        },
        "id": "aDCMYT-PQ95g",
        "outputId": "7babe337-05ec-4133-cbf0-e72ebbe25613"
      },
      "execution_count": 57,
      "outputs": [
        {
          "output_type": "execute_result",
          "data": {
            "text/plain": [
              "<function matplotlib.pyplot.show(*args, **kw)>"
            ]
          },
          "metadata": {},
          "execution_count": 57
        },
        {
          "output_type": "display_data",
          "data": {
            "text/plain": [
              "<Figure size 432x288 with 1 Axes>"
            ],
            "image/png": "[encoded data removed]"
          },
          "metadata": {
            "needs_background": "light"
          }
        }
      ]
    },
    {
      "cell_type": "code",
      "source": [
        "interndata.hist('SSC')\n",
        "plt.show"
      ],
      "metadata": {
        "colab": {
          "base_uri": "https://localhost:8080/",
          "height": 298
        },
        "id": "m88pW05_RBeB",
        "outputId": "fec2e407-27d3-4bfc-b79d-d22fdcc46e3b"
      },
      "execution_count": 58,
      "outputs": [
        {
          "output_type": "execute_result",
          "data": {
            "text/plain": [
              "<function matplotlib.pyplot.show(*args, **kw)>"
            ]
          },
          "metadata": {},
          "execution_count": 58
        },
        {
          "output_type": "display_data",
          "data": {
            "text/plain": [
              "<Figure size 432x288 with 1 Axes>"
            ],
            "image/png": "[encoded data removed]"
          },
          "metadata": {
            "needs_background": "light"
          }
        }
      ]
    },
    {
      "cell_type": "markdown",
      "source": [
        "# 5. Find No. of Enrollments for each Internship Program"
      ],
      "metadata": {
        "id": "KCqQBVD-lU_G"
      }
    },
    {
      "cell_type": "code",
      "source": [
        "interndata['INTERNSHIP'].value_counts()"
      ],
      "metadata": {
        "colab": {
          "base_uri": "https://localhost:8080/",
          "height": 0
        },
        "id": "uXSsCabsRElS",
        "outputId": "5e7197be-c099-4ca1-f5eb-2c8eea21f5c3"
      },
      "execution_count": 59,
      "outputs": [
        {
          "output_type": "execute_result",
          "data": {
            "text/plain": [
              "Data Science                      156\n",
              "Cloud Computing Services (AWS)     90\n",
              "MEAN Stack Web Development         51\n",
              "Name: INTERNSHIP, dtype: int64"
            ]
          },
          "metadata": {},
          "execution_count": 59
        }
      ]
    },
    {
      "cell_type": "markdown",
      "source": [
        "# 4. Create Pie-Chart to represent the Enrollments for each Internship Program"
      ],
      "metadata": {
        "id": "CAzQnlCTlayk"
      }
    },
    {
      "cell_type": "code",
      "source": [
        "interncourses=['Data Science','MEAN Stack Web Development','Cloud Computing Services (AWS)']\n",
        "enrollments=[156,51,90]\n",
        "plt.pie(enrollments,labels=interncourses)\n",
        "plt.show()"
      ],
      "metadata": {
        "colab": {
          "base_uri": "https://localhost:8080/",
          "height": 248
        },
        "id": "dPlieA81b2XZ",
        "outputId": "8610bbca-898a-4877-f7ee-139945cff621"
      },
      "execution_count": 60,
      "outputs": [
        {
          "output_type": "display_data",
          "data": {
            "text/plain": [
              "<Figure size 432x288 with 1 Axes>"
            ],
            "image/png": "[encoded data removed]"
          },
          "metadata": {}
        }
      ]
    },
    {
      "cell_type": "markdown",
      "source": [
        "# 6. Find Measure of Central Tendency: MEAN, MEDIAN, MODE for Degree, Inter and 10th"
      ],
      "metadata": {
        "id": "s2Ob9ZLXl6GV"
      }
    },
    {
      "cell_type": "code",
      "source": [
        "print(\"DEGREE\")\n",
        "print(\"mean=\",np.mean(interndata['DEGREE']))\n",
        "print(\"median=\",np.median(interndata['DEGREE']))\n",
        "print(\"mode=\",stat.mode(interndata['DEGREE']))\n",
        "print(\"\\nINTERMEDIATE\")\n",
        "print(\"mean=\",np.mean(interndata['INTERMEDIATE']))\n",
        "print(\"median=\",np.median(interndata['INTERMEDIATE']))\n",
        "print(\"mode=\",stat.mode(interndata['INTERMEDIATE']))\n",
        "print(\"\\nSSC\")\n",
        "print(\"mean=\",np.mean(interndata['SSC']))\n",
        "print(\"median=\",np.median(interndata['SSC']))\n",
        "print(\"mode=\",stat.mode(interndata['SSC']))"
      ],
      "metadata": {
        "colab": {
          "base_uri": "https://localhost:8080/",
          "height": 0
        },
        "id": "9N5OeMRDddmR",
        "outputId": "abaa20cd-482c-4116-feb0-a70c95518b89"
      },
      "execution_count": 63,
      "outputs": [
        {
          "output_type": "stream",
          "name": "stdout",
          "text": [
            "DEGREE\n",
            "mean= 7.928080808080809\n",
            "median= 8.0\n",
            "mode= 7.0\n",
            "\n",
            "INTERMEDIATE\n",
            "mean= 88.66262626262626\n",
            "median= 90.8\n",
            "mode= 95.0\n",
            "\n",
            "SSC\n",
            "mean= 88.10673400673402\n",
            "median= 90.0\n",
            "mode= 95.0\n"
          ]
        }
      ]
    },
    {
      "cell_type": "markdown",
      "source": [
        "# 7. Find Measure of Variance: Minimum, Maximum, Range, Mean Deviation, Standard Deviation, Co-efficient of Variation for Degree, Inter and 10th"
      ],
      "metadata": {
        "id": "x47GXruKmaZs"
      }
    },
    {
      "cell_type": "code",
      "source": [
        "cv= lambda x: np.std(x, ddof=1)/np.mean(x)*100\n",
        "print(\"DEGREE\")\n",
        "print(\"Range=\",max(interndata['DEGREE'])-min(interndata['DEGREE']))\n",
        "print(\"Co-efficient of variation=\",cv(interndata['DEGREE']))\n",
        "interndata['DEGREE'].describe()"
      ],
      "metadata": {
        "colab": {
          "base_uri": "https://localhost:8080/",
          "height": 0
        },
        "id": "JsmjkM8ZeIkl",
        "outputId": "9c0f47cc-04a3-44b3-b345-315090e8c588"
      },
      "execution_count": 64,
      "outputs": [
        {
          "output_type": "stream",
          "name": "stdout",
          "text": [
            "DEGREE\n",
            "Range= 3.7299999999999995\n",
            "Co-efficient of variation= 9.90881225818308\n"
          ]
        },
        {
          "output_type": "execute_result",
          "data": {
            "text/plain": [
              "count    297.000000\n",
              "mean       7.928081\n",
              "std        0.785579\n",
              "min        5.800000\n",
              "25%        7.400000\n",
              "50%        8.000000\n",
              "75%        8.560000\n",
              "max        9.530000\n",
              "Name: DEGREE, dtype: float64"
            ]
          },
          "metadata": {},
          "execution_count": 64
        }
      ]
    },
    {
      "cell_type": "code",
      "source": [
        "print(\"INTERMEDIATE\")\n",
        "print(\"Range=\",max(interndata['DEGREE'])-min(interndata['INTERMEDIATE']))\n",
        "print(\"Co-efficient of variation=\",cv(interndata['INTERMEDIATE']))\n",
        "interndata['INTERMEDIATE'].describe()"
      ],
      "metadata": {
        "colab": {
          "base_uri": "https://localhost:8080/",
          "height": 0
        },
        "id": "xnL0XQ8nftSD",
        "outputId": "17a910e4-b64a-4ba0-c7bb-68f9fb0cb9e3"
      },
      "execution_count": 65,
      "outputs": [
        {
          "output_type": "stream",
          "name": "stdout",
          "text": [
            "INTERMEDIATE\n",
            "Range= -55.47\n",
            "Co-efficient of variation= 8.29631726338337\n"
          ]
        },
        {
          "output_type": "execute_result",
          "data": {
            "text/plain": [
              "count    297.000000\n",
              "mean      88.662626\n",
              "std        7.355733\n",
              "min       65.000000\n",
              "25%       83.000000\n",
              "50%       90.800000\n",
              "75%       94.600000\n",
              "max       99.400000\n",
              "Name: INTERMEDIATE, dtype: float64"
            ]
          },
          "metadata": {},
          "execution_count": 65
        }
      ]
    },
    {
      "cell_type": "code",
      "source": [
        "print(\"SSC\")\n",
        "print(\"Range=\",max(interndata['DEGREE'])-min(interndata['SSC']))\n",
        "print(\"Co-efficient of variation=\",cv(interndata['SSC']))\n",
        "interndata['SSC'].describe()"
      ],
      "metadata": {
        "colab": {
          "base_uri": "https://localhost:8080/",
          "height": 0
        },
        "id": "bM0BGKeDfyma",
        "outputId": "795b6455-5b75-4ac3-ad7d-97aa5718ed76"
      },
      "execution_count": 66,
      "outputs": [
        {
          "output_type": "stream",
          "name": "stdout",
          "text": [
            "SSC\n",
            "Range= -28.869999999999997\n",
            "Co-efficient of variation= 10.24664491920062\n"
          ]
        },
        {
          "output_type": "execute_result",
          "data": {
            "text/plain": [
              "count    297.000000\n",
              "mean      88.106734\n",
              "std        9.027984\n",
              "min       38.400000\n",
              "25%       85.000000\n",
              "50%       90.000000\n",
              "75%       95.000000\n",
              "max       99.000000\n",
              "Name: SSC, dtype: float64"
            ]
          },
          "metadata": {},
          "execution_count": 66
        }
      ]
    },
    {
      "cell_type": "markdown",
      "source": [
        "# 8. Measures of Position: Standard Scores, Inter-quartile Range for Degree, Inter and 10th "
      ],
      "metadata": {
        "id": "m1BVNKz4mgcp"
      }
    },
    {
      "cell_type": "code",
      "source": [
        "import scipy.stats as stats\n",
        "print(\"Standard scores of Degree\")\n",
        "print(stats.zscore(interndata['DEGREE']))"
      ],
      "metadata": {
        "colab": {
          "base_uri": "https://localhost:8080/",
          "height": 0
        },
        "id": "EoXrUGxVf44e",
        "outputId": "825d5bfb-356a-472a-9588-34081165cc55"
      },
      "execution_count": 67,
      "outputs": [
        {
          "output_type": "stream",
          "name": "stdout",
          "text": [
            "Standard scores of Degree\n",
            "0      0.219213\n",
            "1      0.219213\n",
            "2     -0.163315\n",
            "3      1.405052\n",
            "4      0.576240\n",
            "         ...   \n",
            "292    0.984271\n",
            "293    0.665497\n",
            "294    0.601742\n",
            "295   -1.106886\n",
            "296   -0.545844\n",
            "Name: DEGREE, Length: 297, dtype: float64\n"
          ]
        }
      ]
    },
    {
      "cell_type": "code",
      "source": [
        "print(\"Standard scores of Intermediate\")\n",
        "print(stats.zscore(interndata['INTERMEDIATE']))"
      ],
      "metadata": {
        "colab": {
          "base_uri": "https://localhost:8080/",
          "height": 0
        },
        "id": "4raayGGHf9Ue",
        "outputId": "37a5ae64-ab5d-423c-af43-5edbd62884af"
      },
      "execution_count": 68,
      "outputs": [
        {
          "output_type": "stream",
          "name": "stdout",
          "text": [
            "Standard scores of Intermediate\n",
            "0     -1.724369\n",
            "1     -1.724369\n",
            "2      0.808539\n",
            "3      0.114032\n",
            "4     -0.226413\n",
            "         ...   \n",
            "292    0.740450\n",
            "293    0.182121\n",
            "294    0.849392\n",
            "295    0.263827\n",
            "296    0.931099\n",
            "Name: INTERMEDIATE, Length: 297, dtype: float64\n"
          ]
        }
      ]
    },
    {
      "cell_type": "code",
      "source": [
        "print(\"Standard scores of Ssc\")\n",
        "print(stats.zscore(interndata['SSC']))"
      ],
      "metadata": {
        "colab": {
          "base_uri": "https://localhost:8080/",
          "height": 0
        },
        "id": "vK4xPdwFgBSr",
        "outputId": "ca01c770-0aa6-4bea-95e1-d93e1afee160"
      },
      "execution_count": 71,
      "outputs": [
        {
          "output_type": "stream",
          "name": "stdout",
          "text": [
            "Standard scores of Ssc\n",
            "0      0.431972\n",
            "1      0.431972\n",
            "2      0.431972\n",
            "3      0.099111\n",
            "4      0.210065\n",
            "         ...   \n",
            "292    0.542926\n",
            "293    0.542926\n",
            "294    1.097694\n",
            "295   -0.011843\n",
            "296    0.764833\n",
            "Name: SSC, Length: 297, dtype: float64\n"
          ]
        }
      ]
    },
    {
      "cell_type": "markdown",
      "source": [
        "# 8. Measures of Position Inter-quartile Range for Degree, Inter and 10th\n",
        "# 9. Create Box Plot and Identify Outliers for Degree, Inter and 10th"
      ],
      "metadata": {
        "id": "nLL14DZJm-Dn"
      }
    },
    {
      "cell_type": "code",
      "source": [
        "def outlier(a):\n",
        "  q1 = np.quantile(a,0.25)\n",
        "  q2 = np.quantile(a,0.75)\n",
        "  m = np.median(a)\n",
        "  iqr = q2-q1\n",
        "  u_bound = q2+(1.5*iqr)\n",
        "  l_bound = q1-(1.5*iqr)\n",
        "  print(iqr,u_bound,l_bound)\n",
        "  print(\"Inter Quartile Range:\",iqr)\n",
        "  outliers = a[(a<= l_bound)|(a>= u_bound)]\n",
        "  print(\"outliers in boxplot:\\n{}\".format(outliers))\n",
        "\n",
        "outlier(interndata['DEGREE'])"
      ],
      "metadata": {
        "colab": {
          "base_uri": "https://localhost:8080/",
          "height": 0
        },
        "id": "K1fLKZUUgFra",
        "outputId": "d651b1ae-a1db-481f-c0ff-00f1985e8a09"
      },
      "execution_count": 72,
      "outputs": [
        {
          "output_type": "stream",
          "name": "stdout",
          "text": [
            "1.1600000000000001 10.3 5.66\n",
            "Inter Quartile Range: 1.1600000000000001\n",
            "outliers in boxplot:\n",
            "Series([], Name: DEGREE, dtype: float64)\n"
          ]
        }
      ]
    },
    {
      "cell_type": "code",
      "source": [
        "outlier(interndata['INTERMEDIATE'])"
      ],
      "metadata": {
        "colab": {
          "base_uri": "https://localhost:8080/",
          "height": 0
        },
        "id": "0rLzfuzAgYcM",
        "outputId": "3df333d8-7208-4934-f411-a5acdde71fbc"
      },
      "execution_count": 73,
      "outputs": [
        {
          "output_type": "stream",
          "name": "stdout",
          "text": [
            "11.599999999999994 111.99999999999999 65.60000000000001\n",
            "Inter Quartile Range: 11.599999999999994\n",
            "outliers in boxplot:\n",
            "271    65.0\n",
            "Name: INTERMEDIATE, dtype: float64\n"
          ]
        }
      ]
    },
    {
      "cell_type": "code",
      "source": [
        "outlier(interndata['SSC'])"
      ],
      "metadata": {
        "colab": {
          "base_uri": "https://localhost:8080/",
          "height": 0
        },
        "id": "IyQkBZM0gbPx",
        "outputId": "6cd58a37-6c3a-4d1d-8935-825e498814ea"
      },
      "execution_count": 74,
      "outputs": [
        {
          "output_type": "stream",
          "name": "stdout",
          "text": [
            "10.0 110.0 70.0\n",
            "Inter Quartile Range: 10.0\n",
            "outliers in boxplot:\n",
            "5      64.0\n",
            "7      70.0\n",
            "31     60.0\n",
            "51     68.0\n",
            "69     60.0\n",
            "82     65.6\n",
            "86     50.0\n",
            "107    64.0\n",
            "236    38.4\n",
            "237    67.0\n",
            "243    40.2\n",
            "270    65.0\n",
            "288    65.0\n",
            "Name: SSC, dtype: float64\n"
          ]
        }
      ]
    },
    {
      "cell_type": "code",
      "source": [
        "plt.boxplot(interndata['DEGREE'])\n",
        "plt.show"
      ],
      "metadata": {
        "colab": {
          "base_uri": "https://localhost:8080/",
          "height": 282
        },
        "id": "V-5yTPFigj4e",
        "outputId": "33becd26-86ae-4871-895a-e848fed87f6b"
      },
      "execution_count": 75,
      "outputs": [
        {
          "output_type": "execute_result",
          "data": {
            "text/plain": [
              "<function matplotlib.pyplot.show(*args, **kw)>"
            ]
          },
          "metadata": {},
          "execution_count": 75
        },
        {
          "output_type": "display_data",
          "data": {
            "text/plain": [
              "<Figure size 432x288 with 1 Axes>"
            ],
            "image/png": "[encoded data removed]"
          },
          "metadata": {
            "needs_background": "light"
          }
        }
      ]
    },
    {
      "cell_type": "code",
      "source": [
        "plt.boxplot(interndata['INTERMEDIATE'])\n",
        "plt.show"
      ],
      "metadata": {
        "colab": {
          "base_uri": "https://localhost:8080/",
          "height": 282
        },
        "id": "VdPkG-omgp7I",
        "outputId": "c0759492-e2f0-4760-ade2-acda8fda8868"
      },
      "execution_count": 76,
      "outputs": [
        {
          "output_type": "execute_result",
          "data": {
            "text/plain": [
              "<function matplotlib.pyplot.show(*args, **kw)>"
            ]
          },
          "metadata": {},
          "execution_count": 76
        },
        {
          "output_type": "display_data",
          "data": {
            "text/plain": [
              "<Figure size 432x288 with 1 Axes>"
            ],
            "image/png": "[encoded data removed]"
          },
          "metadata": {
            "needs_background": "light"
          }
        }
      ]
    },
    {
      "cell_type": "code",
      "source": [
        "plt.boxplot(interndata['SSC'])\n",
        "plt.show"
      ],
      "metadata": {
        "colab": {
          "base_uri": "https://localhost:8080/",
          "height": 282
        },
        "id": "WiyEhwoCguYn",
        "outputId": "4ff8bd7a-50d1-4902-9a2b-3034cb6ec84b"
      },
      "execution_count": 77,
      "outputs": [
        {
          "output_type": "execute_result",
          "data": {
            "text/plain": [
              "<function matplotlib.pyplot.show(*args, **kw)>"
            ]
          },
          "metadata": {},
          "execution_count": 77
        },
        {
          "output_type": "display_data",
          "data": {
            "text/plain": [
              "<Figure size 432x288 with 1 Axes>"
            ],
            "image/png": "[encoded data removed]"
          },
          "metadata": {
            "needs_background": "light"
          }
        }
      ]
    },
    {
      "cell_type": "markdown",
      "source": [
        "# 10. Identify No. of Students with 90% percentile for Degree, Inter and 10th Class"
      ],
      "metadata": {
        "id": "J8PbHzX-nvbX"
      }
    },
    {
      "cell_type": "code",
      "source": [
        "def func(c):\n",
        "  quantile = np.quantile(c, 0.9)\n",
        "  Data=c[c==quantile]\n",
        "  print(\"Students with 90% percentile:\",Data.count())\n",
        "\n",
        "func(interndata['DEGREE'])"
      ],
      "metadata": {
        "colab": {
          "base_uri": "https://localhost:8080/",
          "height": 0
        },
        "id": "FHO8UmopgzB-",
        "outputId": "880d4e2c-74c2-416a-947b-1946ca1c4ac3"
      },
      "execution_count": 78,
      "outputs": [
        {
          "output_type": "stream",
          "name": "stdout",
          "text": [
            "Students with 90% percentile: 3\n"
          ]
        }
      ]
    },
    {
      "cell_type": "code",
      "source": [
        "func(interndata['INTERMEDIATE'])"
      ],
      "metadata": {
        "colab": {
          "base_uri": "https://localhost:8080/",
          "height": 0
        },
        "id": "2fG32VF1g6tN",
        "outputId": "80d6da26-7189-4c02-b1c1-803bb6e2a453"
      },
      "execution_count": 79,
      "outputs": [
        {
          "output_type": "stream",
          "name": "stdout",
          "text": [
            "Students with 90% percentile: 3\n"
          ]
        }
      ]
    },
    {
      "cell_type": "code",
      "source": [
        "func(interndata['SSC'])"
      ],
      "metadata": {
        "colab": {
          "base_uri": "https://localhost:8080/",
          "height": 0
        },
        "id": "r45-Ihc8g_RU",
        "outputId": "7528d472-214a-4ec4-dc64-f5565359421a"
      },
      "execution_count": 80,
      "outputs": [
        {
          "output_type": "stream",
          "name": "stdout",
          "text": [
            "Students with 90% percentile: 19\n"
          ]
        }
      ]
    }
  ]
}